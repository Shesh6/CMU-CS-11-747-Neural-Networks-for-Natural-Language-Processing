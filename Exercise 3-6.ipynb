{
 "cells": [
  {
   "cell_type": "code",
   "execution_count": 6,
   "metadata": {},
   "outputs": [],
   "source": [
    "import numpy as np\n",
    "from nltk.util import everygrams\n",
    "from collections import Counter\n",
    "import matplotlib.pyplot as plt\n",
    "\n",
    "N = 3\n",
    "alpha = 0.1\n",
    "\n",
    "train = open(\"en-de/train.en-de.low.filt.en\", \"r\", encoding=\"UTF-8\").readlines()\n",
    "test = open(\"en-de/test.en-de.low.en\", \"r\", encoding=\"UTF-8\").readlines()"
   ]
  },
  {
   "cell_type": "code",
   "execution_count": 7,
   "metadata": {},
   "outputs": [],
   "source": [
    "padded_train = []\n",
    "for sentence in train:\n",
    "    padded_train.append([\"<s>\"]*N + sentence.strip().split() + [\"</s>\"])"
   ]
  },
  {
   "cell_type": "code",
   "execution_count": 8,
   "metadata": {},
   "outputs": [],
   "source": [
    "counter = Counter()\n",
    "for sentence in padded_train:\n",
    "    counter.update(everygrams(sentence,1,N))\n",
    "\n",
    "len_train = 0\n",
    "vocab = set()\n",
    "for item, count in counter.items():\n",
    "    if len(item) == 1:\n",
    "        vocab.add(item[0])\n",
    "        len_train += count"
   ]
  },
  {
   "cell_type": "code",
   "execution_count": 9,
   "metadata": {},
   "outputs": [],
   "source": [
    "padded_test_token = []\n",
    "padded_test_uniform = []\n",
    "for sentence in test:\n",
    "        padded_test_token.append([\"<s>\"]*N + [word if word in vocab else \"<unk>\" for word in sentence.strip().split()] + [\"</s>\"])\n",
    "        padded_test_uniform.append([\"<s>\"]*N + [word if word in vocab else np.random.choice(list(vocab)) for word in sentence.strip().split()] + [\"</s>\"])"
   ]
  },
  {
   "cell_type": "code",
   "execution_count": 10,
   "metadata": {},
   "outputs": [],
   "source": [
    "def theta_et(window, current):\n",
    "    whole = counter[tuple(window+current)]\n",
    "    past = counter[tuple(window)]\n",
    "    if past == 0:\n",
    "        return 0\n",
    "    else:\n",
    "        return whole/past\n",
    "\n",
    "def LM(window, current):\n",
    "    if len(window) == 0:\n",
    "        return counter[tuple(current)]/len_train\n",
    "    else:\n",
    "        current_order = theta_et(window, current)\n",
    "        higher_orders = LM(window[1:], current)\n",
    "        return (1-alpha)*current_order + alpha*higher_orders"
   ]
  },
  {
   "cell_type": "code",
   "execution_count": 99,
   "metadata": {},
   "outputs": [
    {
     "data": {
      "image/png": "[encoded data removed]",
      "text/plain": [
       "<Figure size 432x288 with 1 Axes>"
      ]
     },
     "metadata": {
      "needs_background": "light"
     },
     "output_type": "display_data"
    }
   ],
   "source": [
    "train_scores = []\n",
    "test_token_scores = []\n",
    "test_uniform_scores = []\n",
    "\n",
    "for sentence in padded_train:\n",
    "    sentence_score = 0\n",
    "    for i in range(len(sentence)):\n",
    "        if i >= N:\n",
    "            sentence_score += LM(sentence[i-N:i],[sentence[i]])\n",
    "    train_scores.append(sentence_score/len(sentence))\n",
    "\n",
    "for sentence in padded_test_token:\n",
    "    sentence_score = 0\n",
    "    for i in range(len(sentence)):\n",
    "        if i >= N:\n",
    "            sentence_score += LM(sentence[i-N:i],[sentence[i]])\n",
    "    test_token_scores.append(sentence_score/len(sentence))\n",
    "\n",
    "for sentence in padded_test_uniform:\n",
    "    sentence_score = 0\n",
    "    for i in range(len(sentence)):\n",
    "        if i >= N:\n",
    "            sentence_score += LM(sentence[i-N:i],[sentence[i]])\n",
    "    test_uniform_scores.append(sentence_score/len(sentence))\n",
    "\n",
    "_ = plt.hist(train_scores,100,density=True,alpha=0.75,label=\"Train\")\n",
    "_ = plt.hist(test_token_scores,100,density=True,alpha=0.75,label=\"Test Token\")\n",
    "_ = plt.hist(test_uniform_scores,100,density=True,alpha=0.75,label=\"Test Uniform\")\n",
    "plt.legend()\n",
    "plt.show()"
   ]
  },
  {
   "cell_type": "code",
   "execution_count": 46,
   "metadata": {},
   "outputs": [],
   "source": [
    "def greedy_search_step(past):\n",
    "    best_word = \"\"\n",
    "    best_score = 0\n",
    "    for word in list(vocab):\n",
    "        score = LM(past[N:],[word])\n",
    "        if score > best_score:\n",
    "            best_score = score\n",
    "            best_word = word\n",
    "    return best_word\n",
    "\n",
    "def random_search_step(past):\n",
    "    words = []\n",
    "    scores = []\n",
    "    for word in list(vocab):\n",
    "        words.append(word)\n",
    "        scores.append(LM(past[N:],[word]))\n",
    "    probabilities = np.array(scores)/np.sum(np.array(scores))\n",
    "    return np.random.choice(words, p = probabilities)\n",
    "\n",
    "def search(seed, length, strat=\"greedy\"):\n",
    "    sentence = seed.split()\n",
    "    for _ in range(length):\n",
    "        if sentence[-1] == \"</s>\":\n",
    "            return \" \".join(sentence)\n",
    "        if strat == \"greedy\":\n",
    "            prediction = greedy_search_step(sentence)\n",
    "        if strat == \"random\":\n",
    "            prediction = random_search_step(sentence)\n",
    "        sentence.append(prediction)\n",
    "    return \" \".join(sentence)"
   ]
  },
  {
   "cell_type": "code",
   "execution_count": 58,
   "metadata": {},
   "outputs": [
    {
     "name": "stdout",
     "output_type": "stream",
     "text": [
      "the little man had to be a little bit of a sudden , the\n",
      "the little man had established toward greater complexity . </s>\n"
     ]
    }
   ],
   "source": [
    "seed = \"the little man had\"\n",
    "length = 10\n",
    "print(search(seed, length, \"greedy\"))\n",
    "print(search(seed, length, \"random\"))"
   ]
  },
  {
   "cell_type": "code",
   "execution_count": 59,
   "metadata": {},
   "outputs": [
    {
     "name": "stdout",
     "output_type": "stream",
     "text": [
      "the little woman had to be a little bit of a sudden , the\n",
      "the little woman had productivity go from 44,000 to 180,000 . '' </s>\n"
     ]
    }
   ],
   "source": [
    "seed = \"the little woman had\"\n",
    "length = 10\n",
    "print(search(seed, length, \"greedy\"))\n",
    "print(search(seed, length, \"random\"))"
   ]
  }
 ],
 "metadata": {
  "interpreter": {
   "hash": "9026a92a5d7f7d8aa1c4ab30d4b010c040491f6b59d39fcb84365f121721c1f0"
  },
  "kernelspec": {
   "display_name": "Python 3.8.5 64-bit ('coca1227': conda)",
   "name": "python3"
  },
  "language_info": {
   "codemirror_mode": {
    "name": "ipython",
    "version": 3
   },
   "file_extension": ".py",
   "mimetype": "text/x-python",
   "name": "python",
   "nbconvert_exporter": "python",
   "pygments_lexer": "ipython3",
   "version": "3.8.5"
  },
  "orig_nbformat": 4
 },
 "nbformat": 4,
 "nbformat_minor": 2
}
