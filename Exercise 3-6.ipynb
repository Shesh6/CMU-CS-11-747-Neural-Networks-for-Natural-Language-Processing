{
 "cells": [
  {
   "cell_type": "markdown",
   "metadata": {},
   "source": [
    "### N-gram Language Model from Scratch\n",
    "Exercise 3-6 from Neural Machine Translation and Sequence-to-sequence Models: A Tutorial by \n",
    "Graham Neubig (https://arxiv.org/abs/1703.01619)"
   ]
  },
  {
   "cell_type": "code",
   "execution_count": 107,
   "metadata": {},
   "outputs": [],
   "source": [
    "# imports\n",
    "import numpy as np\n",
    "from nltk.util import everygrams\n",
    "from collections import Counter\n",
    "import matplotlib.pyplot as plt\n",
    "\n",
    "# max N-gram length\n",
    "N = 10\n",
    "# interpolation parameter\n",
    "alpha = 0.1\n",
    "\n",
    "# load data\n",
    "train = open(\"en-de/train.en-de.low.filt.en\", \"r\", encoding=\"UTF-8\").readlines()\n",
    "test = open(\"en-de/test.en-de.low.en\", \"r\", encoding=\"UTF-8\").readlines()"
   ]
  },
  {
   "cell_type": "code",
   "execution_count": 108,
   "metadata": {},
   "outputs": [],
   "source": [
    "# split and pad training sentences\n",
    "padded_train = []\n",
    "for sentence in train:\n",
    "    padded_train.append([\"<s>\"]*N + sentence.strip().split() + [\"</s>\"])"
   ]
  },
  {
   "cell_type": "code",
   "execution_count": 109,
   "metadata": {},
   "outputs": [],
   "source": [
    "# count N-grams for every N\n",
    "counter = Counter()\n",
    "for sentence in padded_train:\n",
    "    counter.update(everygrams(sentence,1,N))\n",
    "\n",
    "# build vocabulary\n",
    "len_train = 0\n",
    "vocab = set()\n",
    "for item, count in counter.items():\n",
    "    if len(item) == 1:\n",
    "        vocab.add(item[0])\n",
    "        len_train += count"
   ]
  },
  {
   "cell_type": "code",
   "execution_count": null,
   "metadata": {},
   "outputs": [],
   "source": [
    "# split and pad test sentences\n",
    "padded_test = []\n",
    "for sentence in test:\n",
    "    # Replace out-of-vocab words with UNK tokens\n",
    "    padded_test.append([\"<s>\"]*N + [word if word in vocab else \"<unk>\" for word in sentence.strip().split()] + [\"</s>\"])"
   ]
  },
  {
   "cell_type": "code",
   "execution_count": 115,
   "metadata": {},
   "outputs": [],
   "source": [
    "# compute the probability of the word given a past window\n",
    "def theta_et(window, current):\n",
    "    # in case of word not in vocabulary, assume uniform distribution over english language of ~10M words\n",
    "    if current == \"<unk>\":\n",
    "        return 1e-6\n",
    "    # count n-gram occurences\n",
    "    whole = counter[tuple(window+current)]\n",
    "    past = counter[tuple(window)]\n",
    "    # if window has never been encountered before return 0 to prevent error\n",
    "    if past == 0:\n",
    "        return 0\n",
    "    # else return the probability\n",
    "    else:\n",
    "        # instances of entire sequence out of instances of window\n",
    "        return whole/past\n",
    "\n",
    "# compute the probability of the current word given a window, using maximum likelihood estimation\n",
    "def ML(window, current):\n",
    "    # if it's the beginning of the sentence, return the base probability of the word\n",
    "    if len(window) == 0:\n",
    "        return counter[tuple(current)]/len_train\n",
    "    # else, compute the probability given the window\n",
    "    else:\n",
    "        # compute the probability given the entire window   \n",
    "        current_order = theta_et(window, current)\n",
    "        # recoursively compute the probability for smaller windows\n",
    "        higher_orders = ML(window[1:], current)\n",
    "        # compose the probabilities with smoothing\n",
    "        return (1-alpha)*current_order + alpha*higher_orders"
   ]
  },
  {
   "cell_type": "code",
   "execution_count": 119,
   "metadata": {},
   "outputs": [
    {
     "data": {
      "image/png": "[encoded data removed]",
      "text/plain": [
       "<Figure size 432x288 with 1 Axes>"
      ]
     },
     "metadata": {
      "needs_background": "light"
     },
     "output_type": "display_data"
    }
   ],
   "source": [
    "# score model on train and test sets\n",
    "train_scores = []\n",
    "test_scores = []\n",
    "\n",
    "# for each word in each sentence\n",
    "for sentence in padded_train:\n",
    "    sentence_score = 0\n",
    "    for i in range(N,len(sentence)):\n",
    "            # compute probability of word according to model\n",
    "            sentence_score += ML(sentence[i-N:i],[sentence[i]])\n",
    "    # normalize by length of sentence\n",
    "    train_scores.append(sentence_score/len(sentence))\n",
    "\n",
    "# as above\n",
    "for sentence in padded_test:\n",
    "    sentence_score = 0\n",
    "    for i in range(len(sentence)):\n",
    "        if i >= N:\n",
    "            sentence_score += ML(sentence[i-N:i],[sentence[i]])\n",
    "    test_scores.append(sentence_score/len(sentence))\n",
    "\n",
    "# plot scores as histograms\n",
    "_ = plt.hist(train_scores,100,density=True,alpha=0.75,label=\"Train\")\n",
    "_ = plt.hist(test_scores,100,density=True,alpha=0.75,label=\"Test\")\n",
    "plt.legend()\n",
    "plt.show()"
   ]
  },
  {
   "cell_type": "code",
   "execution_count": 104,
   "metadata": {},
   "outputs": [],
   "source": [
    "# define prediction functions\n",
    "\n",
    "def greedy_search_step(past):\n",
    "    best_word = \"\"\n",
    "    best_score = 0\n",
    "    # for each word in vocab except padding token\n",
    "    for word in list(vocab-set([\"<s>\"])):\n",
    "        # compute probability given past\n",
    "        score = ML(past[N:],[word])\n",
    "        # choose most probable word in dictionary\n",
    "        if score > best_score:\n",
    "            best_score = score\n",
    "            best_word = word\n",
    "    return best_word\n",
    "\n",
    "def random_search_step(past):\n",
    "    words = []\n",
    "    scores = []\n",
    "    # for each word in vocab except padding token\n",
    "    for word in list(vocab-set([\"<s>\"])):\n",
    "        words.append(word)\n",
    "        # compute probability given past and append to distribution\n",
    "        scores.append(ML(past[N:],[word]))\n",
    "    # normalize distribution\n",
    "    probabilities = np.array(scores)/np.sum(np.array(scores))\n",
    "    # sample word from distribution\n",
    "    return np.random.choice(words, p = probabilities)\n",
    "\n",
    "# predict sentence given seed and length\n",
    "def search(seed, length, strat=\"greedy\"):\n",
    "    sentence = seed.split()\n",
    "    for _ in range(length):\n",
    "        # halt if end sentence token predicted\n",
    "        if sentence[-1] == \"</s>\":\n",
    "            return \" \".join(sentence)\n",
    "        # predict word\n",
    "        if strat == \"greedy\":\n",
    "            prediction = greedy_search_step(sentence)\n",
    "        if strat == \"random\":\n",
    "            prediction = random_search_step(sentence)\n",
    "        # append to predicted sentence\n",
    "        sentence.append(prediction)\n",
    "    return \" \".join(sentence)"
   ]
  },
  {
   "cell_type": "code",
   "execution_count": 122,
   "metadata": {},
   "outputs": [
    {
     "name": "stdout",
     "output_type": "stream",
     "text": [
      "the little man had , , , , , , , and i 'm\n",
      "the little man had what people going a know teenage there are in the\n"
     ]
    }
   ],
   "source": [
    "# test generation\n",
    "\n",
    "seed = \"the little man had\"\n",
    "length = 10\n",
    "print(search(seed, length, \"greedy\"))\n",
    "print(search(seed, length, \"random\"))"
   ]
  },
  {
   "cell_type": "code",
   "execution_count": 123,
   "metadata": {},
   "outputs": [
    {
     "name": "stdout",
     "output_type": "stream",
     "text": [
      "the little woman had , , , , , , , and i 'm\n",
      "the little woman had comes down . kind , , years ago . </s>\n"
     ]
    }
   ],
   "source": [
    "seed = \"the little woman had\"\n",
    "length = 10\n",
    "print(search(seed, length, \"greedy\"))\n",
    "print(search(seed, length, \"random\"))"
   ]
  },
  {
   "cell_type": "markdown",
   "metadata": {},
   "source": [
    "fin."
   ]
  }
 ],
 "metadata": {
  "interpreter": {
   "hash": "9026a92a5d7f7d8aa1c4ab30d4b010c040491f6b59d39fcb84365f121721c1f0"
  },
  "kernelspec": {
   "display_name": "Python 3.8.5 64-bit ('coca1227': conda)",
   "name": "python3"
  },
  "language_info": {
   "codemirror_mode": {
    "name": "ipython",
    "version": 3
   },
   "file_extension": ".py",
   "mimetype": "text/x-python",
   "name": "python",
   "nbconvert_exporter": "python",
   "pygments_lexer": "ipython3",
   "version": "3.9.7"
  },
  "orig_nbformat": 4
 },
 "nbformat": 4,
 "nbformat_minor": 2
}
