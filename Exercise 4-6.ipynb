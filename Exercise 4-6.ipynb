{
 "cells": [
  {
   "cell_type": "code",
   "execution_count": 136,
   "metadata": {},
   "outputs": [],
   "source": [
    "import numpy as np\n",
    "from collections import defaultdict\n",
    "import matplotlib.pyplot as plt\n",
    "\n",
    "N = 2\n",
    "UNK_TOKEN = True # else, uniform distribution\n",
    "\n",
    "train = open(\"en-de/train.en-de.low.filt.en\", \"r\", encoding=\"UTF-8\").readlines()\n",
    "test = open(\"en-de/test.en-de.low.en\", \"r\", encoding=\"UTF-8\").readlines()"
   ]
  },
  {
   "cell_type": "code",
   "execution_count": 9,
   "metadata": {},
   "outputs": [],
   "source": [
    "padded_train = []\n",
    "w2i = defaultdict(lambda: len(w2i))\n",
    "S = w2i[\"<s>\"]\n",
    "END = w2i[\"</s>\"]\n",
    "UNK = w2i[\"UNK\"]\n",
    "for sentence in train:\n",
    "    padded_train.append([S]*N)\n",
    "    for word in sentence.strip().split():\n",
    "        padded_train[-1].append(w2i[word])\n",
    "    padded_train[-1].append(END)\n",
    "\n",
    "VOCAB = set(w2i.keys())\n",
    "i2w = {v: k for k,v in w2i.items()}"
   ]
  },
  {
   "cell_type": "code",
   "execution_count": 34,
   "metadata": {},
   "outputs": [],
   "source": [
    "padded_test = []\n",
    "\n",
    "if UNK_TOKEN:\n",
    "        w2i.default_factory = lambda: UNK\n",
    "else:\n",
    "        w2i.default_factory = lambda: np.random.choice(range(3,len(VOCAB)+1))\n",
    "\n",
    "for sentence in test:\n",
    "        padded_test.append([S]*N + [w2i[word] for word in sentence.strip().split()] + [END])"
   ]
  },
  {
   "cell_type": "code",
   "execution_count": 186,
   "metadata": {},
   "outputs": [],
   "source": [
    "def feat_func(sentence):\n",
    "    # past context window\n",
    "    return np.hstack([onehot(i, len(VOCAB)) for i in sentence[-N:-1]])[0]\n",
    "\n",
    "def forward(x, W, b):\n",
    "    # scores = W@x + b\n",
    "    scores = np.sum([W[:,j] @ x[j] + b for j in range(W.shape[1]) if x[j] != 0], 0)\n",
    "    # scores = np.zeros(W.shape[0])\n",
    "    # for j in range(W.shape[1]):\n",
    "    #     if x[j] != 0:\n",
    "    #         mult = W[:, j] * x[j]\n",
    "    #         biased = mult + b\n",
    "    #         scores += biased\n",
    "    probs = softmax(scores)\n",
    "    return probs\n",
    "\n",
    "def LL_loss(probs):\n",
    "    loss = np.sum(np.log(probs))\n",
    "    return loss\n",
    "\n",
    "def softmax(scores):\n",
    "    exp = np.exp(scores)\n",
    "    return exp/np.sum(exp)\n",
    "\n",
    "def onehot(indices, size):\n",
    "    indices = np.array(indices)\n",
    "    oh_array = np.zeros((indices.size, size))\n",
    "    oh_array[np.arange(indices.size),indices] = 1\n",
    "    return oh_array\n",
    "\n",
    "def step(sentence, W, b, eta = 0.1):\n",
    "    x = feat_func(sentence)\n",
    "    probs = forward(x, W, b)\n",
    "    dldb = probs - onehot(sentence[-1], W.shape[0])[0]\n",
    "    # dldW = np.vstack([dldb*x[j] for j in range(W.shape[0])]).T\n",
    "    b -= eta*dldb\n",
    "    for j in range(W.shape[1]):\n",
    "        if x[j] != 0:\n",
    "            W[:,j] -= eta*dldb.T*x[j]\n",
    "    return W, b\n"
   ]
  },
  {
   "cell_type": "code",
   "execution_count": 195,
   "metadata": {},
   "outputs": [
    {
     "ename": "MemoryError",
     "evalue": "Unable to allocate 25.8 GiB for an array with shape (41590, 83180) and data type float64",
     "output_type": "error",
     "traceback": [
      "\u001b[1;31m---------------------------------------------------------------------------\u001b[0m",
      "\u001b[1;31mMemoryError\u001b[0m                               Traceback (most recent call last)",
      "\u001b[1;32m<ipython-input-195-d0242aa2f2c9>\u001b[0m in \u001b[0;36m<module>\u001b[1;34m\u001b[0m\n\u001b[1;32m----> 1\u001b[1;33m \u001b[0mW\u001b[0m \u001b[1;33m=\u001b[0m \u001b[0mnp\u001b[0m\u001b[1;33m.\u001b[0m\u001b[0mones\u001b[0m\u001b[1;33m(\u001b[0m\u001b[1;33m(\u001b[0m\u001b[0mlen\u001b[0m\u001b[1;33m(\u001b[0m\u001b[0mVOCAB\u001b[0m\u001b[1;33m)\u001b[0m\u001b[1;33m,\u001b[0m\u001b[0mlen\u001b[0m\u001b[1;33m(\u001b[0m\u001b[0mVOCAB\u001b[0m\u001b[1;33m)\u001b[0m\u001b[1;33m*\u001b[0m\u001b[0mN\u001b[0m\u001b[1;33m)\u001b[0m\u001b[1;33m)\u001b[0m\u001b[1;33m\u001b[0m\u001b[1;33m\u001b[0m\u001b[0m\n\u001b[0m\u001b[0;32m      2\u001b[0m \u001b[0mb\u001b[0m \u001b[1;33m=\u001b[0m \u001b[0mnp\u001b[0m\u001b[1;33m.\u001b[0m\u001b[0mones\u001b[0m\u001b[1;33m(\u001b[0m\u001b[0mlen\u001b[0m\u001b[1;33m(\u001b[0m\u001b[0mVOCAB\u001b[0m\u001b[1;33m)\u001b[0m\u001b[1;33m)\u001b[0m\u001b[1;33m\u001b[0m\u001b[1;33m\u001b[0m\u001b[0m\n\u001b[0;32m      3\u001b[0m \u001b[1;32mfor\u001b[0m \u001b[0mi\u001b[0m \u001b[1;32min\u001b[0m \u001b[0mrange\u001b[0m\u001b[1;33m(\u001b[0m\u001b[0mN\u001b[0m\u001b[1;33m+\u001b[0m\u001b[1;36m3\u001b[0m\u001b[1;33m,\u001b[0m \u001b[0mlen\u001b[0m\u001b[1;33m(\u001b[0m\u001b[0mpadded_train\u001b[0m\u001b[1;33m[\u001b[0m\u001b[1;36m0\u001b[0m\u001b[1;33m]\u001b[0m\u001b[1;33m)\u001b[0m\u001b[1;33m+\u001b[0m\u001b[1;36m1\u001b[0m\u001b[1;33m)\u001b[0m\u001b[1;33m:\u001b[0m\u001b[1;33m\u001b[0m\u001b[1;33m\u001b[0m\u001b[0m\n\u001b[0;32m      4\u001b[0m     \u001b[0mW\u001b[0m\u001b[1;33m,\u001b[0m \u001b[0mb\u001b[0m \u001b[1;33m=\u001b[0m \u001b[0mstep\u001b[0m\u001b[1;33m(\u001b[0m\u001b[0mpadded_train\u001b[0m\u001b[1;33m[\u001b[0m\u001b[1;36m0\u001b[0m\u001b[1;33m]\u001b[0m\u001b[1;33m[\u001b[0m\u001b[1;33m:\u001b[0m\u001b[0mi\u001b[0m\u001b[1;33m]\u001b[0m\u001b[1;33m,\u001b[0m \u001b[0mW\u001b[0m\u001b[1;33m,\u001b[0m \u001b[0mb\u001b[0m\u001b[1;33m)\u001b[0m\u001b[1;33m\u001b[0m\u001b[1;33m\u001b[0m\u001b[0m\n",
      "\u001b[1;32mC:\\ProgramData\\Miniconda3\\envs\\coca1227\\lib\\site-packages\\numpy\\core\\numeric.py\u001b[0m in \u001b[0;36mones\u001b[1;34m(shape, dtype, order)\u001b[0m\n\u001b[0;32m    190\u001b[0m \u001b[1;33m\u001b[0m\u001b[0m\n\u001b[0;32m    191\u001b[0m     \"\"\"\n\u001b[1;32m--> 192\u001b[1;33m     \u001b[0ma\u001b[0m \u001b[1;33m=\u001b[0m \u001b[0mempty\u001b[0m\u001b[1;33m(\u001b[0m\u001b[0mshape\u001b[0m\u001b[1;33m,\u001b[0m \u001b[0mdtype\u001b[0m\u001b[1;33m,\u001b[0m \u001b[0morder\u001b[0m\u001b[1;33m)\u001b[0m\u001b[1;33m\u001b[0m\u001b[1;33m\u001b[0m\u001b[0m\n\u001b[0m\u001b[0;32m    193\u001b[0m     \u001b[0mmultiarray\u001b[0m\u001b[1;33m.\u001b[0m\u001b[0mcopyto\u001b[0m\u001b[1;33m(\u001b[0m\u001b[0ma\u001b[0m\u001b[1;33m,\u001b[0m \u001b[1;36m1\u001b[0m\u001b[1;33m,\u001b[0m \u001b[0mcasting\u001b[0m\u001b[1;33m=\u001b[0m\u001b[1;34m'unsafe'\u001b[0m\u001b[1;33m)\u001b[0m\u001b[1;33m\u001b[0m\u001b[1;33m\u001b[0m\u001b[0m\n\u001b[0;32m    194\u001b[0m     \u001b[1;32mreturn\u001b[0m \u001b[0ma\u001b[0m\u001b[1;33m\u001b[0m\u001b[1;33m\u001b[0m\u001b[0m\n",
      "\u001b[1;31mMemoryError\u001b[0m: Unable to allocate 25.8 GiB for an array with shape (41590, 83180) and data type float64"
     ]
    }
   ],
   "source": [
    "W = np.ones((len(VOCAB),len(VOCAB)*N))\n",
    "b = np.ones(len(VOCAB))\n",
    "for i in range(N+3, len(padded_train[0])+1):\n",
    "    W, b = step(padded_train[0][:i], W, b)"
   ]
  },
  {
   "cell_type": "markdown",
   "metadata": {},
   "source": []
  },
  {
   "cell_type": "code",
   "execution_count": 193,
   "metadata": {},
   "outputs": [
    {
     "data": {
      "text/plain": [
       "array([[1., 1.],\n",
       "       [1., 1.],\n",
       "       [1., 1.],\n",
       "       ...,\n",
       "       [1., 1.],\n",
       "       [1., 1.],\n",
       "       [1., 1.]])"
      ]
     },
     "execution_count": 193,
     "metadata": {},
     "output_type": "execute_result"
    }
   ],
   "source": [
    "W"
   ]
  },
  {
   "cell_type": "code",
   "execution_count": 52,
   "metadata": {},
   "outputs": [
    {
     "ename": "NameError",
     "evalue": "name 'LM' is not defined",
     "output_type": "error",
     "traceback": [
      "\u001b[1;31m---------------------------------------------------------------------------\u001b[0m",
      "\u001b[1;31mNameError\u001b[0m                                 Traceback (most recent call last)",
      "\u001b[1;32m<ipython-input-52-2ebb5c033ee3>\u001b[0m in \u001b[0;36m<module>\u001b[1;34m\u001b[0m\n\u001b[0;32m      7\u001b[0m     \u001b[1;32mfor\u001b[0m \u001b[0mi\u001b[0m \u001b[1;32min\u001b[0m \u001b[0mrange\u001b[0m\u001b[1;33m(\u001b[0m\u001b[0mlen\u001b[0m\u001b[1;33m(\u001b[0m\u001b[0msentence\u001b[0m\u001b[1;33m)\u001b[0m\u001b[1;33m)\u001b[0m\u001b[1;33m:\u001b[0m\u001b[1;33m\u001b[0m\u001b[1;33m\u001b[0m\u001b[0m\n\u001b[0;32m      8\u001b[0m         \u001b[1;32mif\u001b[0m \u001b[0mi\u001b[0m \u001b[1;33m>=\u001b[0m \u001b[0mN\u001b[0m\u001b[1;33m:\u001b[0m\u001b[1;33m\u001b[0m\u001b[1;33m\u001b[0m\u001b[0m\n\u001b[1;32m----> 9\u001b[1;33m             \u001b[0msentence_score\u001b[0m \u001b[1;33m+=\u001b[0m \u001b[0mLM\u001b[0m\u001b[1;33m(\u001b[0m\u001b[0msentence\u001b[0m\u001b[1;33m[\u001b[0m\u001b[0mi\u001b[0m\u001b[1;33m-\u001b[0m\u001b[0mN\u001b[0m\u001b[1;33m:\u001b[0m\u001b[0mi\u001b[0m\u001b[1;33m]\u001b[0m\u001b[1;33m,\u001b[0m\u001b[1;33m[\u001b[0m\u001b[0msentence\u001b[0m\u001b[1;33m[\u001b[0m\u001b[0mi\u001b[0m\u001b[1;33m]\u001b[0m\u001b[1;33m]\u001b[0m\u001b[1;33m)\u001b[0m\u001b[1;33m\u001b[0m\u001b[1;33m\u001b[0m\u001b[0m\n\u001b[0m\u001b[0;32m     10\u001b[0m     \u001b[0mtrain_scores\u001b[0m\u001b[1;33m.\u001b[0m\u001b[0mappend\u001b[0m\u001b[1;33m(\u001b[0m\u001b[0msentence_score\u001b[0m\u001b[1;33m/\u001b[0m\u001b[0mlen\u001b[0m\u001b[1;33m(\u001b[0m\u001b[0msentence\u001b[0m\u001b[1;33m)\u001b[0m\u001b[1;33m)\u001b[0m\u001b[1;33m\u001b[0m\u001b[1;33m\u001b[0m\u001b[0m\n\u001b[0;32m     11\u001b[0m \u001b[1;33m\u001b[0m\u001b[0m\n",
      "\u001b[1;31mNameError\u001b[0m: name 'LM' is not defined"
     ]
    }
   ],
   "source": [
    "train_scores = []\n",
    "test_token_scores = []\n",
    "test_uniform_scores = []\n",
    "\n",
    "for sentence in padded_train:\n",
    "    sentence_score = 0\n",
    "    for i in range(len(sentence)):\n",
    "        if i >= N:\n",
    "            sentence_score += LM(sentence[i-N:i],[sentence[i]])\n",
    "    train_scores.append(sentence_score/len(sentence))\n",
    "\n",
    "for sentence in padded_test_token:\n",
    "    sentence_score = 0\n",
    "    for i in range(len(sentence)):\n",
    "        if i >= N:\n",
    "            sentence_score += LM(sentence[i-N:i],[sentence[i]])\n",
    "    test_token_scores.append(sentence_score/len(sentence))\n",
    "\n",
    "for sentence in padded_test_uniform:\n",
    "    sentence_score = 0\n",
    "    for i in range(len(sentence)):\n",
    "        if i >= N:\n",
    "            sentence_score += LM(sentence[i-N:i],[sentence[i]])\n",
    "    test_uniform_scores.append(sentence_score/len(sentence))\n",
    "\n",
    "_ = plt.hist(train_scores,100,density=True,alpha=0.75,label=\"Train\")\n",
    "_ = plt.hist(test_token_scores,100,density=True,alpha=0.75,label=\"Test Token\")\n",
    "_ = plt.hist(test_uniform_scores,100,density=True,alpha=0.75,label=\"Test Uniform\")\n",
    "plt.legend()\n",
    "plt.show()"
   ]
  },
  {
   "cell_type": "code",
   "execution_count": 46,
   "metadata": {},
   "outputs": [],
   "source": [
    "def greedy_search_step(past):\n",
    "    best_word = \"\"\n",
    "    best_score = 0\n",
    "    for word in list(vocab):\n",
    "        score = LM(past[N:],[word])\n",
    "        if score > best_score:\n",
    "            best_score = score\n",
    "            best_word = word\n",
    "    return best_word\n",
    "\n",
    "def random_search_step(past):\n",
    "    words = []\n",
    "    scores = []\n",
    "    for word in list(vocab):\n",
    "        words.append(word)\n",
    "        scores.append(LM(past[N:],[word]))\n",
    "    probabilities = np.array(scores)/np.sum(np.array(scores))\n",
    "    return np.random.choice(words, p = probabilities)\n",
    "\n",
    "def search(seed, length, strat=\"greedy\"):\n",
    "    sentence = seed.split()\n",
    "    for _ in range(length):\n",
    "        if sentence[-1] == \"</s>\":\n",
    "            return \" \".join(sentence)\n",
    "        if strat == \"greedy\":\n",
    "            prediction = greedy_search_step(sentence)\n",
    "        if strat == \"random\":\n",
    "            prediction = random_search_step(sentence)\n",
    "        sentence.append(prediction)\n",
    "    return \" \".join(sentence)"
   ]
  },
  {
   "cell_type": "code",
   "execution_count": 58,
   "metadata": {},
   "outputs": [
    {
     "name": "stdout",
     "output_type": "stream",
     "text": [
      "the little man had to be a little bit of a sudden , the\n",
      "the little man had established toward greater complexity . </s>\n"
     ]
    }
   ],
   "source": [
    "seed = \"the little man had\"\n",
    "length = 10\n",
    "print(search(seed, length, \"greedy\"))\n",
    "print(search(seed, length, \"random\"))"
   ]
  },
  {
   "cell_type": "code",
   "execution_count": 59,
   "metadata": {},
   "outputs": [
    {
     "name": "stdout",
     "output_type": "stream",
     "text": [
      "the little woman had to be a little bit of a sudden , the\n",
      "the little woman had productivity go from 44,000 to 180,000 . '' </s>\n"
     ]
    }
   ],
   "source": [
    "seed = \"the little woman had\"\n",
    "length = 10\n",
    "print(search(seed, length, \"greedy\"))\n",
    "print(search(seed, length, \"random\"))"
   ]
  }
 ],
 "metadata": {
  "interpreter": {
   "hash": "9026a92a5d7f7d8aa1c4ab30d4b010c040491f6b59d39fcb84365f121721c1f0"
  },
  "kernelspec": {
   "display_name": "Python 3.8.5 64-bit ('coca1227': conda)",
   "name": "python3"
  },
  "language_info": {
   "codemirror_mode": {
    "name": "ipython",
    "version": 3
   },
   "file_extension": ".py",
   "mimetype": "text/x-python",
   "name": "python",
   "nbconvert_exporter": "python",
   "pygments_lexer": "ipython3",
   "version": "3.8.5"
  },
  "orig_nbformat": 4
 },
 "nbformat": 4,
 "nbformat_minor": 2
}
