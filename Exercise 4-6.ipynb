{
 "cells": [
  {
   "cell_type": "markdown",
   "metadata": {},
   "source": [
    "### Log-Linear Language Model from Scratch\n",
    "Exercise 4-6 from Neural Machine Translation and Sequence-to-sequence Models: A Tutorial by \n",
    "Graham Neubig (https://arxiv.org/abs/1703.01619)"
   ]
  },
  {
   "cell_type": "code",
   "execution_count": 2,
   "metadata": {},
   "outputs": [],
   "source": [
    "# imports\n",
    "import numpy as np\n",
    "from collections import defaultdict\n",
    "import matplotlib.pyplot as plt\n",
    "from tqdm import tqdm\n",
    "\n",
    "# maximum n-gram length\n",
    "n = 2\n",
    "\n",
    "# load data\n",
    "X_train = open(\"en-de/train.en-de.low.filt.en\", \"r\", encoding=\"UTF-8\").readlines()\n",
    "X_test = open(\"en-de/test.en-de.low.en\", \"r\", encoding=\"UTF-8\").readlines()"
   ]
  },
  {
   "cell_type": "code",
   "execution_count": 3,
   "metadata": {},
   "outputs": [],
   "source": [
    "# encode vocab as numerical index\n",
    "padded_train = []\n",
    "# automatically register new words to new consequitive ids\n",
    "w2i = defaultdict(lambda: len(w2i))\n",
    "# define special characters\n",
    "S = w2i[\"<s>\"]\n",
    "END = w2i[\"</s>\"]\n",
    "UNK = w2i[\"<UNK>\"]\n",
    "\n",
    "# pad, split, and encode training data (taking subset to avoid dimensionality explosion)\n",
    "for sentence in X_train[:1000]:\n",
    "    padded_train.append([S]*n)\n",
    "    for word in sentence.strip().split():\n",
    "        padded_train[-1].append(w2i[word])\n",
    "    padded_train[-1].append(END)\n",
    "\n",
    "VOCAB = list(w2i.keys())\n",
    "i2w = {v: k for k,v in w2i.items()}\n",
    "\n",
    "# vocab length\n",
    "V = len(VOCAB)\n",
    "# size of embedding vector, depends on feature function defined below\n",
    "N = n*V"
   ]
  },
  {
   "cell_type": "code",
   "execution_count": 4,
   "metadata": {},
   "outputs": [],
   "source": [
    "padded_test = []\n",
    "\n",
    "# encode uknown words as UNK token\n",
    "w2i.default_factory = lambda: UNK\n",
    "\n",
    "# pad, split, and encode test data\n",
    "for sentence in X_test:\n",
    "        padded_test.append([S]*n + [w2i[word] for word in sentence.strip().split()] + [END])"
   ]
  },
  {
   "cell_type": "code",
   "execution_count": 5,
   "metadata": {},
   "outputs": [],
   "source": [
    "# softmax function\n",
    "def softmax(scores):\n",
    "    exp = np.exp(scores)\n",
    "    return exp/np.sum(exp)\n",
    "\n",
    "# log-likelihood loss\n",
    "def LL_loss(prob):\n",
    "    loss = -np.log(prob)\n",
    "    return loss\n",
    "\n",
    "# convert indices into one-hot encoding matrix, given vocab size\n",
    "def onehot(indices, size):\n",
    "    indices = np.array(indices)\n",
    "    # creates n x V zeros matrix\n",
    "    oh_array = np.zeros((size,indices.size))\n",
    "    # set entries of indices to 1\n",
    "    oh_array[indices,np.arange(indices.size)] = 1\n",
    "    # return one-hot array\n",
    "    return oh_array\n",
    "\n",
    "# feature function to turn input into feature vector\n",
    "# concatenated OHE for words in the window, N \\in R^{n*V X 1}\n",
    "def feat_func(window):\n",
    "    oh_mat = onehot(window, V)\n",
    "    concatenated = oh_mat.T[::-1].reshape(-1,1)\n",
    "    return concatenated\n",
    "\n",
    "# forward pass, compute scores from input given parameters\n",
    "def forward(x, W, b):\n",
    "    # affine transformation\n",
    "    # scores = W @ x + b.reshape(-1,1)\n",
    "\n",
    "    # lookup, more computationally efficient for sparse matrices (such as one-hot)\n",
    "    # W[:,j]            \\in R^{V X 1}\n",
    "    # x[j]              \\in R^{1}\n",
    "    # b                 \\in R^{V X 1}\n",
    "    # s                 \\in R^{V X 1} = \\sum W[:,j] * x[j] + b\n",
    "    score = np.sum([W[:,j] * x[j] + b for j in range(N) if x[j] != 0],0)\n",
    "    return score\n",
    "\n",
    "# optimization step\n",
    "def step(sentence, W, b, eta = 0.1):\n",
    "    # convert input to feature vector\n",
    "    x = feat_func(sentence[:-1])\n",
    "    # compute probabilities from feature vector and parameters\n",
    "    probs = softmax(forward(x, W, b))\n",
    "    # compute the gradients for biases and weights and take optimization step\n",
    "    dldb = probs.T - onehot(sentence[-1], V).flatten()\n",
    "    b_step = np.multiply(dldb,eta)\n",
    "    b -= b_step\n",
    "    # lookup active weight rows to update\n",
    "    for j in range(N):\n",
    "        if np.sum(x[j]) != 0:\n",
    "            W[:,j] -= b_step*x[j]\n",
    "    return W, b\n",
    "\n",
    "def train(X):\n",
    "    # initialize parameters\n",
    "    W = np.random.rand(V,N)\n",
    "    b = np.random.rand(V)\n",
    "    # for each word in test_data (except padding)\n",
    "    for sentence in tqdm(X):\n",
    "        for i in range(n+1, len(sentence)+1):\n",
    "            # compute step and update parameters\n",
    "            W, b = step(sentence[i-n-1:i], W, b)\n",
    "    # in case of unknown word, assume uniform distribution over 1e6 words\n",
    "    for i in range(UNK,N+UNK,V):\n",
    "        W[:,i] = np.array([1e-6]*V)\n",
    "    # return parameters\n",
    "    return (W, b)"
   ]
  },
  {
   "cell_type": "code",
   "execution_count": 6,
   "metadata": {},
   "outputs": [
    {
     "name": "stderr",
     "output_type": "stream",
     "text": [
      "100%|██████████| 1000/1000 [07:00<00:00,  2.38it/s]\n"
     ]
    }
   ],
   "source": [
    "# Train model   \n",
    "W, b = train(padded_train)"
   ]
  },
  {
   "cell_type": "code",
   "execution_count": 7,
   "metadata": {},
   "outputs": [
    {
     "name": "stderr",
     "output_type": "stream",
     "text": [
      "100%|██████████| 1000/1000 [01:40<00:00,  9.92it/s]\n",
      "100%|██████████| 1565/1565 [02:42<00:00,  9.60it/s]\n"
     ]
    },
    {
     "data": {
      "image/png": "[encoded data removed]",
      "text/plain": [
       "<Figure size 432x288 with 1 Axes>"
      ]
     },
     "metadata": {
      "needs_background": "light"
     },
     "output_type": "display_data"
    }
   ],
   "source": [
    "# score model on train and test sets\n",
    "train_losses = []\n",
    "test_losses = []\n",
    "\n",
    "# for each word in each sentence\n",
    "for sentence in tqdm(padded_train):\n",
    "    sentence_loss = 0\n",
    "    for i in range(n+1,len(sentence)):\n",
    "            # compute probability of word according to model\n",
    "            x = feat_func(sentence[i-n-1:i-1])\n",
    "            sentence_loss += LL_loss(softmax(forward(x, W, b))[sentence[i]])\n",
    "    # normalize by length of sentence\n",
    "    train_losses.append(sentence_loss/len(sentence))\n",
    "\n",
    "# as above\n",
    "for sentence in tqdm(padded_test):\n",
    "    sentence_loss = 0\n",
    "    for i in range(n+1,len(sentence)):\n",
    "            x = feat_func(sentence[i-n-1:i-1])\n",
    "            sentence_loss += LL_loss(softmax(forward(x, W, b))[sentence[i]])\n",
    "    test_losses.append(sentence_loss/len(sentence))\n",
    "\n",
    "# plot losses as histograms\n",
    "_ = plt.hist(train_losses,100,density=True,alpha=0.75,label=\"Train\")\n",
    "_ = plt.hist(test_losses,100,density=True,alpha=0.75,label=\"Test\")\n",
    "plt.legend()\n",
    "plt.show()"
   ]
  },
  {
   "cell_type": "code",
   "execution_count": 8,
   "metadata": {},
   "outputs": [],
   "source": [
    "# define prediction functions\n",
    "\n",
    "def greedy_search_step(past, W, b):\n",
    "    # compute score vector and choose highest score\n",
    "    x = feat_func(past[-n:])\n",
    "    scores = forward(x, W, b)\n",
    "    # prevent choosing padding token\n",
    "    scores[0] = 0\n",
    "    return np.argmax(scores)\n",
    "\n",
    "def random_search_step(past, W, b):\n",
    "    # compute score vector and sample from softmaxed distribution\n",
    "    x = feat_func(past[-n:])\n",
    "    scores = forward(x, W, b)\n",
    "    # prevent choosing padding token\n",
    "    scores[0] = 0\n",
    "    probs = softmax(scores)\n",
    "    return np.random.choice(range(V), p = probs)\n",
    "\n",
    "# predict sentence given seed and length\n",
    "def search(W, b, seed, length, strat=\"greedy\"):\n",
    "    sentence = [w2i[word] for word in seed.split()]\n",
    "    for _ in range(length):\n",
    "        # halt if end sentence token is reached\n",
    "        if sentence[-1] == END:\n",
    "            return \" \".join([i2w[i] for i in sentence])\n",
    "        # predict next word\n",
    "        if strat == \"greedy\":\n",
    "            prediction = greedy_search_step(sentence, W, b)\n",
    "        if strat == \"random\":\n",
    "            prediction = random_search_step(sentence, W, b)\n",
    "        # append to sentence\n",
    "        sentence.append(prediction)\n",
    "    return \" \".join([i2w[i] for i in sentence])"
   ]
  },
  {
   "cell_type": "code",
   "execution_count": 11,
   "metadata": {},
   "outputs": [
    {
     "name": "stdout",
     "output_type": "stream",
     "text": [
      "the little man had . </s>\n",
      "the little man had snap forces problems exchanged it so . </s>\n"
     ]
    }
   ],
   "source": [
    "# test generation\n",
    "\n",
    "seed = \"the little man had\"\n",
    "length = 10\n",
    "print(search(W, b, seed, length, \"greedy\"))\n",
    "print(search(W, b, seed, length, \"random\"))"
   ]
  },
  {
   "cell_type": "code",
   "execution_count": 17,
   "metadata": {},
   "outputs": [
    {
     "name": "stdout",
     "output_type": "stream",
     "text": [
      "the little woman had , and the in the , and the in the\n",
      "the little woman had of the are pool are london shredded the it about\n"
     ]
    }
   ],
   "source": [
    "seed = \"the little woman had\"\n",
    "length = 10\n",
    "print(search(W, b, seed, length, \"greedy\"))\n",
    "print(search(W, b, seed, length, \"random\"))"
   ]
  },
  {
   "cell_type": "markdown",
   "metadata": {},
   "source": [
    "fin."
   ]
  }
 ],
 "metadata": {
  "interpreter": {
   "hash": "9026a92a5d7f7d8aa1c4ab30d4b010c040491f6b59d39fcb84365f121721c1f0"
  },
  "kernelspec": {
   "display_name": "Python 3.8.5 64-bit ('coca1227': conda)",
   "name": "python3"
  },
  "language_info": {
   "codemirror_mode": {
    "name": "ipython",
    "version": 3
   },
   "file_extension": ".py",
   "mimetype": "text/x-python",
   "name": "python",
   "nbconvert_exporter": "python",
   "pygments_lexer": "ipython3",
   "version": "3.9.7"
  },
  "orig_nbformat": 4
 },
 "nbformat": 4,
 "nbformat_minor": 2
}
